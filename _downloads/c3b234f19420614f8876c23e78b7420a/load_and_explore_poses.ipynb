{
  "cells": [
    {
      "cell_type": "markdown",
      "metadata": {},
      "source": [
        "\n# Load and explore pose tracks\n\nLoad and explore an example dataset of pose tracks.\n"
      ]
    },
    {
      "cell_type": "markdown",
      "metadata": {},
      "source": [
        "## Imports\n\n"
      ]
    },
    {
      "cell_type": "code",
      "execution_count": null,
      "metadata": {
        "collapsed": false
      },
      "outputs": [],
      "source": [
        "from matplotlib import pyplot as plt\n\nfrom movement import datasets\nfrom movement.io import load_poses"
      ]
    },
    {
      "cell_type": "markdown",
      "metadata": {},
      "source": [
        "## Fetch an example dataset\nPrint a list of available datasets:\n\n"
      ]
    },
    {
      "cell_type": "code",
      "execution_count": null,
      "metadata": {
        "collapsed": false
      },
      "outputs": [],
      "source": [
        "print(datasets.find_pose_data())"
      ]
    },
    {
      "cell_type": "markdown",
      "metadata": {},
      "source": [
        "Fetch the path to an example dataset\n(Feel free to replace this with the path to your own dataset.\ne.g., `file_path = \"/path/to/my/data.h5\"`)\n\n"
      ]
    },
    {
      "cell_type": "code",
      "execution_count": null,
      "metadata": {
        "collapsed": false
      },
      "outputs": [],
      "source": [
        "file_path = datasets.fetch_pose_data_path(\n    \"SLEAP_three-mice_Aeon_proofread.analysis.h5\"\n)"
      ]
    },
    {
      "cell_type": "markdown",
      "metadata": {},
      "source": [
        "## Load the dataset\n\n"
      ]
    },
    {
      "cell_type": "code",
      "execution_count": null,
      "metadata": {
        "collapsed": false
      },
      "outputs": [],
      "source": [
        "ds = load_poses.from_sleap_file(file_path, fps=60)\nds"
      ]
    },
    {
      "cell_type": "markdown",
      "metadata": {},
      "source": [
        "The loaded dataset contains two data variables:\n`pose_tracks` and `confidence`\nTo get the pose tracks:\n\n"
      ]
    },
    {
      "cell_type": "code",
      "execution_count": null,
      "metadata": {
        "collapsed": false
      },
      "outputs": [],
      "source": [
        "pose_tracks = ds[\"pose_tracks\"]"
      ]
    },
    {
      "cell_type": "markdown",
      "metadata": {},
      "source": [
        "## Slect and plot data with ``xarray``\nYou can use the ``sel`` method to index into ``xarray`` objects.\nFor example, we can get a `DataArray` containing only data\nfor the \"centroid\" keypoint of the first individual:\n\n"
      ]
    },
    {
      "cell_type": "code",
      "execution_count": null,
      "metadata": {
        "collapsed": false
      },
      "outputs": [],
      "source": [
        "da = pose_tracks.sel(individuals=\"AEON3B_NTP\", keypoints=\"centroid\")"
      ]
    },
    {
      "cell_type": "markdown",
      "metadata": {},
      "source": [
        "We could plot the x,y coordinates of this keypoint over time,\nusing ``xarray``'s built-in plotting methods:\n\n"
      ]
    },
    {
      "cell_type": "code",
      "execution_count": null,
      "metadata": {
        "collapsed": false
      },
      "outputs": [],
      "source": [
        "da.plot.line(x=\"time\", row=\"space\", aspect=2, size=2.5)"
      ]
    },
    {
      "cell_type": "markdown",
      "metadata": {},
      "source": [
        "Similarly we could plot the same keypoint's x,y coordinates\nfor all individuals:\n\n"
      ]
    },
    {
      "cell_type": "code",
      "execution_count": null,
      "metadata": {
        "collapsed": false
      },
      "outputs": [],
      "source": [
        "pose_tracks.sel(keypoints=\"centroid\").plot.line(\n    x=\"time\", row=\"individuals\", aspect=2, size=2.5\n)"
      ]
    },
    {
      "cell_type": "markdown",
      "metadata": {},
      "source": [
        "## Trajectory plots\nWe are not limited to ``xarray``'s built-in plots.\nFor example, we can use ``matplotlib`` to plot trajectories\n(using scatter plots):\n\n"
      ]
    },
    {
      "cell_type": "code",
      "execution_count": null,
      "metadata": {
        "collapsed": false
      },
      "outputs": [],
      "source": [
        "individuals = pose_tracks.individuals.values\nfor i, ind in enumerate(individuals):\n    da_ind = pose_tracks.sel(individuals=ind, keypoints=\"centroid\")\n    plt.scatter(\n        da_ind.sel(space=\"x\"),\n        da_ind.sel(space=\"y\"),\n        s=2,\n        color=plt.cm.tab10(i),\n        label=ind,\n    )\n    plt.xlabel(\"x\")\n    plt.ylabel(\"y\")\n    plt.legend()"
      ]
    }
  ],
  "metadata": {
    "kernelspec": {
      "display_name": "Python 3",
      "language": "python",
      "name": "python3"
    },
    "language_info": {
      "codemirror_mode": {
        "name": "ipython",
        "version": 3
      },
      "file_extension": ".py",
      "mimetype": "text/x-python",
      "name": "python",
      "nbconvert_exporter": "python",
      "pygments_lexer": "ipython3",
      "version": "3.11.4"
    }
  },
  "nbformat": 4,
  "nbformat_minor": 0
}